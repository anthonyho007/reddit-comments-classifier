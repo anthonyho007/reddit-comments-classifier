{
 "cells": [
  {
   "cell_type": "markdown",
   "metadata": {},
   "source": [
    "# Data preprocessing"
   ]
  },
  {
   "cell_type": "code",
   "execution_count": 1,
   "metadata": {},
   "outputs": [],
   "source": [
    "import pandas as pd\n",
    "import numpy as np\n",
    "from sklearn.naive_bayes import BernoulliNB\n",
    "from sklearn.naive_bayes import MultinomialNB\n",
    "from sklearn.model_selection import train_test_split\n",
    "from sklearn.feature_extraction.text import CountVectorizer\n",
    "from sklearn.metrics import accuracy_score, precision_score, recall_score"
   ]
  },
  {
   "cell_type": "code",
   "execution_count": 2,
   "metadata": {},
   "outputs": [],
   "source": [
    "train_df = pd.read_csv(\"reddit-comment-classification-comp-551/reddit_train.csv\")"
   ]
  },
  {
   "cell_type": "code",
   "execution_count": 3,
   "metadata": {},
   "outputs": [],
   "source": [
    "test_df = pd.read_csv(\"reddit-comment-classification-comp-551/reddit_test.csv\")"
   ]
  },
  {
   "cell_type": "code",
   "execution_count": 4,
   "metadata": {},
   "outputs": [
    {
     "data": {
      "text/html": [
       "<div>\n",
       "<style scoped>\n",
       "    .dataframe tbody tr th:only-of-type {\n",
       "        vertical-align: middle;\n",
       "    }\n",
       "\n",
       "    .dataframe tbody tr th {\n",
       "        vertical-align: top;\n",
       "    }\n",
       "\n",
       "    .dataframe thead th {\n",
       "        text-align: right;\n",
       "    }\n",
       "</style>\n",
       "<table border=\"1\" class=\"dataframe\">\n",
       "  <thead>\n",
       "    <tr style=\"text-align: right;\">\n",
       "      <th></th>\n",
       "      <th>id</th>\n",
       "      <th>comments</th>\n",
       "      <th>subreddits</th>\n",
       "      <th>label</th>\n",
       "    </tr>\n",
       "  </thead>\n",
       "  <tbody>\n",
       "    <tr>\n",
       "      <td>0</td>\n",
       "      <td>0</td>\n",
       "      <td>Honestly, Buffalo is the correct answer. I rem...</td>\n",
       "      <td>hockey</td>\n",
       "      <td>11</td>\n",
       "    </tr>\n",
       "    <tr>\n",
       "      <td>1</td>\n",
       "      <td>1</td>\n",
       "      <td>Ah yes way could have been :( remember when he...</td>\n",
       "      <td>nba</td>\n",
       "      <td>14</td>\n",
       "    </tr>\n",
       "    <tr>\n",
       "      <td>2</td>\n",
       "      <td>2</td>\n",
       "      <td>https://youtu.be/6xxbBR8iSZ0?t=40m49s\\n\\nIf yo...</td>\n",
       "      <td>leagueoflegends</td>\n",
       "      <td>12</td>\n",
       "    </tr>\n",
       "    <tr>\n",
       "      <td>3</td>\n",
       "      <td>3</td>\n",
       "      <td>He wouldn't have been a bad signing if we woul...</td>\n",
       "      <td>soccer</td>\n",
       "      <td>16</td>\n",
       "    </tr>\n",
       "    <tr>\n",
       "      <td>4</td>\n",
       "      <td>4</td>\n",
       "      <td>Easy. You use the piss and dry technique. Let ...</td>\n",
       "      <td>funny</td>\n",
       "      <td>9</td>\n",
       "    </tr>\n",
       "    <tr>\n",
       "      <td>...</td>\n",
       "      <td>...</td>\n",
       "      <td>...</td>\n",
       "      <td>...</td>\n",
       "      <td>...</td>\n",
       "    </tr>\n",
       "    <tr>\n",
       "      <td>69995</td>\n",
       "      <td>69995</td>\n",
       "      <td>Thank you, you confirm Spain does have nice pe...</td>\n",
       "      <td>europe</td>\n",
       "      <td>8</td>\n",
       "    </tr>\n",
       "    <tr>\n",
       "      <td>69996</td>\n",
       "      <td>69996</td>\n",
       "      <td>Imagine how many he would have killed with a r...</td>\n",
       "      <td>leagueoflegends</td>\n",
       "      <td>12</td>\n",
       "    </tr>\n",
       "    <tr>\n",
       "      <td>69997</td>\n",
       "      <td>69997</td>\n",
       "      <td>Yes. Only. As in the guy I was replying to was...</td>\n",
       "      <td>canada</td>\n",
       "      <td>6</td>\n",
       "    </tr>\n",
       "    <tr>\n",
       "      <td>69998</td>\n",
       "      <td>69998</td>\n",
       "      <td>Looking for something light-hearted or has a v...</td>\n",
       "      <td>anime</td>\n",
       "      <td>4</td>\n",
       "    </tr>\n",
       "    <tr>\n",
       "      <td>69999</td>\n",
       "      <td>69999</td>\n",
       "      <td>I love how I never cry about casters because I...</td>\n",
       "      <td>GlobalOffensive</td>\n",
       "      <td>1</td>\n",
       "    </tr>\n",
       "  </tbody>\n",
       "</table>\n",
       "<p>70000 rows × 4 columns</p>\n",
       "</div>"
      ],
      "text/plain": [
       "          id                                           comments  \\\n",
       "0          0  Honestly, Buffalo is the correct answer. I rem...   \n",
       "1          1  Ah yes way could have been :( remember when he...   \n",
       "2          2  https://youtu.be/6xxbBR8iSZ0?t=40m49s\\n\\nIf yo...   \n",
       "3          3  He wouldn't have been a bad signing if we woul...   \n",
       "4          4  Easy. You use the piss and dry technique. Let ...   \n",
       "...      ...                                                ...   \n",
       "69995  69995  Thank you, you confirm Spain does have nice pe...   \n",
       "69996  69996  Imagine how many he would have killed with a r...   \n",
       "69997  69997  Yes. Only. As in the guy I was replying to was...   \n",
       "69998  69998  Looking for something light-hearted or has a v...   \n",
       "69999  69999  I love how I never cry about casters because I...   \n",
       "\n",
       "            subreddits  label  \n",
       "0               hockey     11  \n",
       "1                  nba     14  \n",
       "2      leagueoflegends     12  \n",
       "3               soccer     16  \n",
       "4                funny      9  \n",
       "...                ...    ...  \n",
       "69995           europe      8  \n",
       "69996  leagueoflegends     12  \n",
       "69997           canada      6  \n",
       "69998            anime      4  \n",
       "69999  GlobalOffensive      1  \n",
       "\n",
       "[70000 rows x 4 columns]"
      ]
     },
     "execution_count": 4,
     "metadata": {},
     "output_type": "execute_result"
    }
   ],
   "source": [
    "# label each categories\n",
    "train_df.subreddits = pd.Categorical(train_df.subreddits)\n",
    "train_df['label'] = train_df.subreddits.cat.codes\n",
    "label_mapping = dict( enumerate(train_df['subreddits'].cat.categories ) )\n",
    "train_df"
   ]
  },
  {
   "cell_type": "code",
   "execution_count": 5,
   "metadata": {},
   "outputs": [],
   "source": [
    "# split test and train data\n",
    "X_train, X_test, y_train, y_test = train_test_split(train_df['comments'], train_df['label'], random_state=1)"
   ]
  },
  {
   "cell_type": "code",
   "execution_count": null,
   "metadata": {},
   "outputs": [],
   "source": [
    "# init vectorizer\n",
    "cv = CountVectorizer(strip_accents='ascii', token_pattern=u'(?ui)\\\\b\\\\w*[a-z]+\\\\w*\\\\b', lowercase=True, stop_words='english')"
   ]
  },
  {
   "cell_type": "code",
   "execution_count": 6,
   "metadata": {},
   "outputs": [
    {
     "data": {
      "text/plain": [
       "<52500x61620 sparse matrix of type '<class 'numpy.int64'>'\n",
       "\twith 960433 stored elements in Compressed Sparse Row format>"
      ]
     },
     "execution_count": 6,
     "metadata": {},
     "output_type": "execute_result"
    }
   ],
   "source": [
    "# vectorize the words\n",
    "X_train_cv = cv.fit_transform(X_train)\n",
    "X_test_cv = cv.transform(X_test)\n"
   ]
  },
  {
   "cell_type": "code",
   "execution_count": 7,
   "metadata": {},
   "outputs": [
    {
     "data": {
      "text/plain": [
       "<17500x61620 sparse matrix of type '<class 'numpy.int64'>'\n",
       "\twith 308971 stored elements in Compressed Sparse Row format>"
      ]
     },
     "execution_count": 7,
     "metadata": {},
     "output_type": "execute_result"
    }
   ],
   "source": []
  },
  {
   "cell_type": "code",
   "execution_count": null,
   "metadata": {},
   "outputs": [],
   "source": []
  },
  {
   "cell_type": "markdown",
   "metadata": {},
   "source": [
    "# Implementing BNB"
   ]
  },
  {
   "cell_type": "code",
   "execution_count": 69,
   "metadata": {},
   "outputs": [],
   "source": [
    "from sklearn.preprocessing import Binarizer\n",
    "from sklearn.utils.validation import check_X_y, check_array\n",
    "from sklearn.utils.extmath import safe_sparse_dot\n",
    "from scipy import sparse"
   ]
  },
  {
   "cell_type": "code",
   "execution_count": null,
   "metadata": {},
   "outputs": [],
   "source": []
  },
  {
   "cell_type": "code",
   "execution_count": 141,
   "metadata": {},
   "outputs": [],
   "source": [
    "class BernoulliNB:\n",
    "    def __init__(self):\n",
    "        self.prob_class = None\n",
    "        self.prob_x_c = None\n",
    "        self.prob_x_cp = None\n",
    "\n",
    "    def fit(self, X, y):\n",
    "        X = self.binarize(X)\n",
    "        classes = np.unique(y)\n",
    "        probs_class = []\n",
    "        probs_x_c = []\n",
    "        probs_x_cp = []\n",
    "\n",
    "        for c in classes:\n",
    "            prob_class, prob_x_c, prob_x_cp = self.populate_class_stats(X, y, c)\n",
    "            probs_class.append(prob_class)\n",
    "            probs_x_c.append(prob_x_c)\n",
    "            probs_x_cp.append(prob_x_cp)\n",
    "        \n",
    "        self.prob_class = np.asarray(probs_class)\n",
    "        self.prob_x_c = np.asarray(probs_x_c)\n",
    "        self.prob_x_cp = np.asarray(probs_x_cp)\n",
    "\n",
    "    def binarize(self, X):\n",
    "        binarizer = Binarizer().fit(X)\n",
    "        return binarizer.transform(X)\n",
    "    \n",
    "    def populate_class_stats(self, X, y, c):\n",
    "        X, y = check_X_y(X, y, accept_sparse=\"csr\")\n",
    "        Xc = X[y == c, :]\n",
    "        Xcp = X[y != c, :]\n",
    "        \n",
    "        # P(c)\n",
    "        prob_class = Xc.shape[0] / X.shape[0]\n",
    "        \n",
    "        # number of word x in class c\n",
    "        Nxc = np.asarray(Xc.sum(axis=0))\n",
    "        \n",
    "        # number of word x not in class c\n",
    "        Nxcp = np.asarray(Xcp.sum(axis=0))\n",
    "        \n",
    "        n_feat = Nxc.shape[1]\n",
    "        \n",
    "        # number of word x' in class c\n",
    "        s_nxc = Nxc.sum()\n",
    "        Nxpc = np.zeros(n_feat)\n",
    "        for i in range(n_feat):\n",
    "            Nxpc[i] = s_nxc - Nxc[0][i]\n",
    "            \n",
    "        # number of word x' in class c'\n",
    "        s_nxcp = Nxcp.sum()\n",
    "        Nxpcp = np.zeros(n_feat)\n",
    "        for i in range(n_feat):\n",
    "            Nxpcp[i] = s_nxcp - Nxc[0][i]\n",
    "        \n",
    "        # P(x | c)\n",
    "        prob_x_c = (Nxc + 1) / (Nxpc + 2)\n",
    "        \n",
    "        # P(x | c')\n",
    "        prob_x_cp = (Nxcp + 1) / (Nxpcp  + 2)\n",
    "\n",
    "        return prob_class, prob_x_c.reshape(n_feat), prob_x_cp.reshape(n_feat)\n",
    "\n",
    "    def predict(self, X):\n",
    "        X = check_array(X, accept_sparse=\"csr\")\n",
    "        X = self.binarize(X)\n",
    "        preds = []\n",
    "        one = np.ones(X.shape[1])\n",
    "        l1 = np.log(self.prob_x_c/self.prob_x_cp).T\n",
    "        l2 = np.log((1-self.prob_x_c)/(1-self.prob_x_cp)).T\n",
    "        for i in range(X.shape[0]):\n",
    "            x = X.getrow(i)\n",
    "            pred = np.argmax(np.log(self.prob_class) + \\\n",
    "                + np.sum(safe_sparse_dot(x, l1)) \\\n",
    "                + (one - x) @ l2)\n",
    "            preds.append(pred)\n",
    "        return np.asarray(preds)"
   ]
  },
  {
   "cell_type": "code",
   "execution_count": null,
   "metadata": {},
   "outputs": [],
   "source": []
  },
  {
   "cell_type": "markdown",
   "metadata": {},
   "source": [
    "# Running Bernoulli Naive Bayes"
   ]
  },
  {
   "cell_type": "code",
   "execution_count": 142,
   "metadata": {},
   "outputs": [],
   "source": [
    "# from bnb.model import BernoulliNB\n",
    "cls = BernoulliNB1()\n",
    "cls.fit(X_train_cv, y_train)"
   ]
  },
  {
   "cell_type": "code",
   "execution_count": 143,
   "metadata": {},
   "outputs": [],
   "source": [
    "cls.prob_class.shape\n",
    "pred_y = cls.predict(X_test_cv)"
   ]
  },
  {
   "cell_type": "code",
   "execution_count": 144,
   "metadata": {},
   "outputs": [
    {
     "data": {
      "text/plain": [
       "array([2, 2, 2, ..., 2, 2, 2])"
      ]
     },
     "execution_count": 144,
     "metadata": {},
     "output_type": "execute_result"
    }
   ],
   "source": [
    "pred_y"
   ]
  },
  {
   "cell_type": "code",
   "execution_count": 145,
   "metadata": {},
   "outputs": [
    {
     "name": "stdout",
     "output_type": "stream",
     "text": [
      "Accuracy score:  0.05217142857142857\n"
     ]
    }
   ],
   "source": [
    "print('Accuracy score: ', accuracy_score(y_test, pred_y))"
   ]
  },
  {
   "cell_type": "code",
   "execution_count": 139,
   "metadata": {},
   "outputs": [
    {
     "data": {
      "text/plain": [
       "6670     Yeah but euron's about to bring cersei tyrion ...\n",
       "49567    All of his videos are sarcastic and funny...hi...\n",
       "50796    I love those scenes but it wouldn't have made ...\n",
       "22310    You do get a smidge of hp for every point of c...\n",
       "54037    New MMORPG lets you play as someone playing a ...\n",
       "                               ...                        \n",
       "32138    Don't want to get into a fight here, but all I...\n",
       "53648    Its the key that opens the gate to the Obsidia...\n",
       "64554    That Barry Zito would be a key part to the Gia...\n",
       "33812    Inb4 triggered Lijang Tower suckers come and c...\n",
       "30231    Is eating in public illegal too?\\n\\nIt is a my...\n",
       "Name: comments, Length: 17500, dtype: object"
      ]
     },
     "execution_count": 139,
     "metadata": {},
     "output_type": "execute_result"
    }
   ],
   "source": []
  },
  {
   "cell_type": "markdown",
   "metadata": {},
   "source": [
    "# Running BNB"
   ]
  },
  {
   "cell_type": "code",
   "execution_count": 8,
   "metadata": {},
   "outputs": [],
   "source": [
    "# from bnb.model import ClassStatistic\n",
    "# cs = ClassStatistic()"
   ]
  },
  {
   "cell_type": "code",
   "execution_count": 8,
   "metadata": {},
   "outputs": [],
   "source": [
    "from bnb.model import BernoulliNB\n",
    "cls = BernoulliNB()\n",
    "cls.fit(X_train_cv, y_train)"
   ]
  },
  {
   "cell_type": "code",
   "execution_count": 9,
   "metadata": {},
   "outputs": [
    {
     "data": {
      "text/plain": [
       "array([0.05049524, 0.04994286, 0.04927619, 0.05011429, 0.04954286,\n",
       "       0.05066667, 0.05045714, 0.05028571, 0.05028571, 0.0499619 ,\n",
       "       0.05064762, 0.05030476, 0.04942857, 0.04965714, 0.04948571,\n",
       "       0.04990476, 0.04927619, 0.0495619 , 0.05038095, 0.05032381])"
      ]
     },
     "execution_count": 9,
     "metadata": {},
     "output_type": "execute_result"
    }
   ],
   "source": [
    "cls.prob_class"
   ]
  },
  {
   "cell_type": "code",
   "execution_count": 11,
   "metadata": {},
   "outputs": [
    {
     "data": {
      "text/plain": [
       "(20, 1, 61620)"
      ]
     },
     "execution_count": 11,
     "metadata": {},
     "output_type": "execute_result"
    }
   ],
   "source": [
    "cls.prob_x_c.shape"
   ]
  },
  {
   "cell_type": "code",
   "execution_count": 12,
   "metadata": {},
   "outputs": [
    {
     "data": {
      "text/plain": [
       "(20, 1, 61620)"
      ]
     },
     "execution_count": 12,
     "metadata": {},
     "output_type": "execute_result"
    }
   ],
   "source": [
    "cls.prob_x_cp.shape"
   ]
  },
  {
   "cell_type": "code",
   "execution_count": 20,
   "metadata": {},
   "outputs": [
    {
     "data": {
      "text/plain": [
       "<1x61620 sparse matrix of type '<class 'numpy.int64'>'\n",
       "\twith 11 stored elements in Compressed Sparse Row format>"
      ]
     },
     "execution_count": 20,
     "metadata": {},
     "output_type": "execute_result"
    }
   ],
   "source": [
    "from sklearn.utils.validation import check_X_y, check_array\n",
    "# for i in range(X_test_cv.shape[0]):\n",
    "#     x = X_test_cv.getrow(1)\n",
    "#     print(x)\n",
    "\n",
    "X_test_cv.getrow(1)"
   ]
  },
  {
   "cell_type": "code",
   "execution_count": 43,
   "metadata": {},
   "outputs": [
    {
     "data": {
      "text/plain": [
       "<52500x61620 sparse matrix of type '<class 'numpy.int64'>'\n",
       "\twith 960433 stored elements in Compressed Sparse Row format>"
      ]
     },
     "execution_count": 43,
     "metadata": {},
     "output_type": "execute_result"
    }
   ],
   "source": [
    "from sklearn.utils.validation import check_array\n",
    "from sklearn.utils.validation import check_X_y\n",
    "X, y = check_X_y(b_X, y_train, accept_sparse=\"csr\")"
   ]
  },
  {
   "cell_type": "code",
   "execution_count": 44,
   "metadata": {},
   "outputs": [
    {
     "data": {
      "text/plain": [
       "<2651x61620 sparse matrix of type '<class 'numpy.int64'>'\n",
       "\twith 48968 stored elements in Compressed Sparse Row format>"
      ]
     },
     "execution_count": 44,
     "metadata": {},
     "output_type": "execute_result"
    }
   ],
   "source": [
    "X_i = X[y == 0, :]\n",
    "X_i"
   ]
  },
  {
   "cell_type": "code",
   "execution_count": 42,
   "metadata": {},
   "outputs": [
    {
     "data": {
      "text/plain": [
       "4183     I saw a (I am guessing) 10 year old get hit in...\n",
       "19950    Yes same here I was just bored and decided to ...\n",
       "23570    Nothing in that Wikipedia article says anythin...\n",
       "22072    Not a doctor or nurse, but I have a kind of we...\n",
       "18008    \"Well that just creams my corn\" -almost father...\n",
       "                               ...                        \n",
       "37774    If you're gonna do some fruit-based drink at l...\n",
       "64337    I think men age so much better than women. A g...\n",
       "9552     **PLEASE READ THIS MESSAGE IN ITS ENTIRETY BEF...\n",
       "1844     If the food police would arrest people who eat...\n",
       "8444     Instructions unclear, could not locate the pen...\n",
       "Name: comments, Length: 2651, dtype: object"
      ]
     },
     "execution_count": 42,
     "metadata": {},
     "output_type": "execute_result"
    }
   ],
   "source": [
    "X_train[y_train == 0]"
   ]
  },
  {
   "cell_type": "code",
   "execution_count": null,
   "metadata": {},
   "outputs": [],
   "source": [
    "def prob_class(X, y, c):\n",
    "    t = X.shape[0]\n",
    "    Xc = X[[y=c]]\n",
    "    d = Xc.shape[0]\n",
    "    return d/t"
   ]
  },
  {
   "cell_type": "code",
   "execution_count": null,
   "metadata": {},
   "outputs": [],
   "source": []
  },
  {
   "cell_type": "code",
   "execution_count": null,
   "metadata": {},
   "outputs": [],
   "source": []
  },
  {
   "cell_type": "code",
   "execution_count": null,
   "metadata": {},
   "outputs": [],
   "source": []
  },
  {
   "cell_type": "code",
   "execution_count": null,
   "metadata": {},
   "outputs": [],
   "source": []
  },
  {
   "cell_type": "code",
   "execution_count": 78,
   "metadata": {},
   "outputs": [],
   "source": [
    "clf = BernoulliNB()"
   ]
  },
  {
   "cell_type": "code",
   "execution_count": 79,
   "metadata": {},
   "outputs": [
    {
     "data": {
      "text/plain": [
       "BernoulliNB(alpha=1.0, binarize=0.0, class_prior=None, fit_prior=True)"
      ]
     },
     "execution_count": 79,
     "metadata": {},
     "output_type": "execute_result"
    }
   ],
   "source": [
    "clf.fit(X_train_cv, y_train)"
   ]
  },
  {
   "cell_type": "code",
   "execution_count": 80,
   "metadata": {},
   "outputs": [],
   "source": [
    "preds = clf.predict(X_test_cv)"
   ]
  },
  {
   "cell_type": "code",
   "execution_count": 85,
   "metadata": {},
   "outputs": [
    {
     "name": "stdout",
     "output_type": "stream",
     "text": [
      "Accuracy score:  0.4948571428571429\n"
     ]
    }
   ],
   "source": [
    "print('Accuracy score: ', accuracy_score(y_test, preds))"
   ]
  },
  {
   "cell_type": "code",
   "execution_count": null,
   "metadata": {},
   "outputs": [],
   "source": []
  }
 ],
 "metadata": {
  "kernelspec": {
   "display_name": "Python 3",
   "language": "python",
   "name": "python3"
  },
  "language_info": {
   "codemirror_mode": {
    "name": "ipython",
    "version": 3
   },
   "file_extension": ".py",
   "mimetype": "text/x-python",
   "name": "python",
   "nbconvert_exporter": "python",
   "pygments_lexer": "ipython3",
   "version": "3.7.4"
  }
 },
 "nbformat": 4,
 "nbformat_minor": 2
}
